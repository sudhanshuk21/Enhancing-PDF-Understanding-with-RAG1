{
 "cells": [
  {
   "cell_type": "code",
   "execution_count": 17,
   "metadata": {},
   "outputs": [],
   "source": [
    "from openai import OpenAI\n",
    "from pinecone import Pinecone\n",
    "import varkey\n",
    "import varkey1\n",
    "client = OpenAI(api_key= varkey.api_key1)\n",
    "pc = Pinecone(api_key= varkey1.api_key2)\n",
    "index = pc.Index(\"book\")"
   ]
  },
  {
   "cell_type": "code",
   "execution_count": 3,
   "metadata": {},
   "outputs": [],
   "source": [
    "def create_emb(text):\n",
    "    return client.embeddings.create(input=text, model=\"text-embedding-3-large\").data[0].embedding"
   ]
  },
  {
   "cell_type": "code",
   "execution_count": 4,
   "metadata": {},
   "outputs": [],
   "source": [
    "def create_input(response, query):\n",
    "    text = 'user\\'s query :' + query + '\\n'\n",
    "    text += 'Following are the texts that might be relevant the query:\\n'\n",
    "    for j in response['matches']:\n",
    "        text+=j['metadata']['text'] + '\\n'\n",
    "    return text"
   ]
  },
  {
   "cell_type": "code",
   "execution_count": 6,
   "metadata": {},
   "outputs": [],
   "source": [
    "def get_answers(query):\n",
    "    response = client.chat.completions.create(\n",
    "  model=\"gpt-3.5-turbo-0125\",\n",
    "  messages=[\n",
    "    {\"role\": \"system\", \"content\": \"You are a helpful assistant, who gives best reponse to the user's query you are given the user's query along with data that might be relevant for answering the query. Write a response\"},\n",
    "    {\"role\": \"user\", \"content\": query}\n",
    "  ]\n",
    ")\n",
    "    return response.choices[0].message.content"
   ]
  },
  {
   "cell_type": "code",
   "execution_count": 7,
   "metadata": {},
   "outputs": [],
   "source": [
    "def asr(file_path):\n",
    "\n",
    "    audio_file= open(file_path, \"rb\")\n",
    "    transcript = client.audio.translations.create(\n",
    "  model=\"whisper-1\", \n",
    "  file=audio_file\n",
    ")\n",
    "    return transcript.text"
   ]
  },
  {
   "cell_type": "code",
   "execution_count": 8,
   "metadata": {},
   "outputs": [
    {
     "name": "stdout",
     "output_type": "stream",
     "text": [
      "Munga's curse had a powerful impact on Munshi Ramsevak and his family, leading to fear and paranoia. Despite their rationalizing during the day, the fear and guilt of Munga's death haunted them at night. The fear of Munga's curse was so strong that even ordinary occurrences like the sound of a mouse running was enough to terrify them.\n",
      "\n",
      "Munga's tragic end on Ramsevak's doorstep had tarnished his reputation in the village, causing disgrace and humiliation. The villagers took pleasure in his misfortune, and the incident left a lasting mark on his family.\n",
      "\n",
      "In the end, Munga's curse proved to be a powerful force that disturbed the peace of Munshi Ramsevak and his family, showing the potential consequences of greed and betrayal.\n"
     ]
    }
   ],
   "source": [
    "query = input(\"Enter your query: \")\n",
    "\n",
    "emb = create_emb(query)\n",
    "response = index.query(vector=emb, top_k=4, include_values=False, include_metadata=True)\n",
    "\n",
    "prompt = create_input(response, query)\n",
    "\n",
    "answers = get_answers(prompt)\n",
    "\n",
    "print(answers)"
   ]
  },
  {
   "cell_type": "code",
   "execution_count": 25,
   "metadata": {},
   "outputs": [
    {
     "name": "stdout",
     "output_type": "stream",
     "text": [
      "This story \"January Night\" portrays the struggle of a poor farmer, Halku, faced with the harsh reality of poverty during the cold January nights. Halku's wife, Munni, expresses concern over giving their last three rupees to the landlord, leaving them without money for a blanket. Halku, burdened by poverty, decides to pay the landlord and ends up shivering in the fields without a blanket.\n",
      "\n",
      "The story depicts Halku's emotional turmoil as he grapples with the consequences of his actions, such as giving away their savings, leading to his sleepless and freezing night in the fields. The bond between Halku and his loyal dog, Jabra, is highlighted as they endure the cold together.\n",
      "\n",
      "As the night progresses, Halku's resilience shines through as he gathers leaves to make a fire, overcoming the biting cold. The warmth of the fire brings a sense of comfort and victory over the winter's harshness. Jabra's presence and loyalty bring solace to Halku, emphasizing the importance of companionship in times of hardship.\n",
      "\n",
      "The story beautifully captures the resilience, sacrifice, and companionship of Halku and Jabra amidst the challenges of poverty and harsh winter nights. Ultimately, it conveys a message of endurance and the power of simple moments of warmth and companionship in the face of adversity.\n"
     ]
    }
   ],
   "source": [
    "query = 'audio.mp3'\n",
    "\n",
    "query = asr(query)\n",
    "emb = create_emb(query)\n",
    "response = index.query(vector=emb, top_k=4, include_values=False, include_metadata=True)\n",
    "\n",
    "prompt = create_input(response, query)\n",
    "\n",
    "answers = get_answers(prompt)\n",
    "\n",
    "print(answers)"
   ]
  },
  {
   "cell_type": "code",
   "execution_count": 28,
   "metadata": {},
   "outputs": [],
   "source": [
    "def tts(text):\n",
    "    response = client.audio.speech.create(\n",
    "    model=\"tts-1\",\n",
    "    voice=\"shimmer\",\n",
    "    input=text,\n",
    "    )\n",
    "    response.write_to_file(\"output.mp3\")"
   ]
  },
  {
   "cell_type": "code",
   "execution_count": 33,
   "metadata": {},
   "outputs": [],
   "source": [
    "query = 'audio.m4a'\n",
    "\n",
    "query = asr(query)\n",
    "emb = create_emb(query)\n",
    "response = index.query(vector=emb, top_k=4, include_values=False, include_metadata=True)\n",
    "\n",
    "prompt = create_input(response, query)\n",
    "\n",
    "answers = get_answers(prompt)\n",
    "\n",
    "tts(answers)"
   ]
  }
 ],
 "metadata": {
  "kernelspec": {
   "display_name": "Python 3",
   "language": "python",
   "name": "python3"
  },
  "language_info": {
   "codemirror_mode": {
    "name": "ipython",
    "version": 3
   },
   "file_extension": ".py",
   "mimetype": "text/x-python",
   "name": "python",
   "nbconvert_exporter": "python",
   "pygments_lexer": "ipython3",
   "version": "3.11.2"
  }
 },
 "nbformat": 4,
 "nbformat_minor": 2
}
